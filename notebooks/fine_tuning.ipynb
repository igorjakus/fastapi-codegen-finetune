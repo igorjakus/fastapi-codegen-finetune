{
 "cells": [
  {
   "cell_type": "markdown",
   "id": "7792c93a",
   "metadata": {},
   "source": [
    "# Fine-tuning CodeGen for FastAPI Code Generation\n",
    "\n",
    "This notebook performs fine-tuning of the CodeGen-350M model on our preprocessed FastAPI code examples.\n",
    "\n",
    "## Google Colab Setup\n",
    "First, we need to mount Google Drive, check GPU availability and install required packages."
   ]
  },
  {
   "cell_type": "code",
   "execution_count": null,
   "id": "32276c3a",
   "metadata": {},
   "outputs": [],
   "source": [
    "# Mount Google Drive\n",
    "from google.colab import drive\n",
    "drive.mount('/content/drive')\n",
    "\n",
    "# Check GPU availability\n",
    "!nvidia-smi\n",
    "\n",
    "# Install required packages\n",
    "!pip install torch transformers datasets numpy\n",
    "\n",
    "# Setup paths\n",
    "from pathlib import Path\n",
    "\n",
    "# Set project paths\n",
    "BASE_PATH = Path('/content/drive/MyDrive/fastapi-codegen')\n",
    "PROCESSED_DATA_PATH = BASE_PATH / 'data/processed'\n",
    "MODEL_PATH = BASE_PATH / 'models'\n",
    "\n",
    "# Create directories\n",
    "MODEL_PATH.mkdir(parents=True, exist_ok=True)\n",
    "(MODEL_PATH / 'checkpoints').mkdir(exist_ok=True)\n",
    "\n",
    "print(f'Project directory: {BASE_PATH}')\n",
    "print(f'Processed data directory: {PROCESSED_DATA_PATH}')\n",
    "print(f'Model directory: {MODEL_PATH}')"
   ]
  },
  {
   "cell_type": "code",
   "execution_count": 7,
   "id": "488bfef8",
   "metadata": {},
   "outputs": [],
   "source": [
    "import torch\n",
    "from transformers import (\n",
    "    AutoModelForCausalLM,\n",
    "    AutoTokenizer,\n",
    "    Trainer,\n",
    "    TrainingArguments,\n",
    "    default_data_collator\n",
    ")\n",
    "from datasets import load_from_disk\n",
    "import numpy as np\n",
    "\n",
    "# Clear GPU memory if needed\n",
    "if torch.cuda.is_available():\n",
    "    torch.cuda.empty_cache()"
   ]
  },
  {
   "cell_type": "code",
   "execution_count": null,
   "id": "2b189105",
   "metadata": {},
   "outputs": [
    {
     "name": "stdout",
     "output_type": "stream",
     "text": [
      "Train size: 1567\n",
      "Test size: 196\n",
      "Dev size: 196\n"
     ]
    }
   ],
   "source": [
    "# Paths\n",
    "# PROCESSED_DATA_PATH = Path('../data/processed')\n",
    "# MODEL_PATH = Path('../models')\n",
    "# MODEL_PATH.mkdir(exist_ok=True)\n",
    "\n",
    "# Load datasets and tokenizer\n",
    "train_dataset = load_from_disk(PROCESSED_DATA_PATH / 'train')\n",
    "test_dataset = load_from_disk(PROCESSED_DATA_PATH / 'test')\n",
    "dev_dataset = load_from_disk(PROCESSED_DATA_PATH / 'dev')\n",
    "\n",
    "# Load tokenizer\n",
    "tokenizer = AutoTokenizer.from_pretrained(PROCESSED_DATA_PATH / 'tokenizer')\n",
    "\n",
    "print(f'Train size: {len(train_dataset)}')\n",
    "print(f'Test size: {len(test_dataset)}')\n",
    "print(f'Dev size: {len(dev_dataset)}')"
   ]
  },
  {
   "cell_type": "code",
   "execution_count": 9,
   "id": "d4743130",
   "metadata": {},
   "outputs": [
    {
     "name": "stderr",
     "output_type": "stream",
     "text": [
      "Some weights of the model checkpoint at Salesforce/codegen-350M-mono were not used when initializing CodeGenForCausalLM: ['transformer.h.0.attn.causal_mask', 'transformer.h.1.attn.causal_mask', 'transformer.h.10.attn.causal_mask', 'transformer.h.11.attn.causal_mask', 'transformer.h.12.attn.causal_mask', 'transformer.h.13.attn.causal_mask', 'transformer.h.14.attn.causal_mask', 'transformer.h.15.attn.causal_mask', 'transformer.h.16.attn.causal_mask', 'transformer.h.17.attn.causal_mask', 'transformer.h.18.attn.causal_mask', 'transformer.h.19.attn.causal_mask', 'transformer.h.2.attn.causal_mask', 'transformer.h.3.attn.causal_mask', 'transformer.h.4.attn.causal_mask', 'transformer.h.5.attn.causal_mask', 'transformer.h.6.attn.causal_mask', 'transformer.h.7.attn.causal_mask', 'transformer.h.8.attn.causal_mask', 'transformer.h.9.attn.causal_mask']\n",
      "- This IS expected if you are initializing CodeGenForCausalLM from the checkpoint of a model trained on another task or with another architecture (e.g. initializing a BertForSequenceClassification model from a BertForPreTraining model).\n",
      "- This IS NOT expected if you are initializing CodeGenForCausalLM from the checkpoint of a model that you expect to be exactly identical (initializing a BertForSequenceClassification model from a BertForSequenceClassification model).\n"
     ]
    }
   ],
   "source": [
    "# Initialize model\n",
    "MODEL_NAME = 'Salesforce/codegen-350M-mono'\n",
    "\n",
    "model = AutoModelForCausalLM.from_pretrained(\n",
    "    MODEL_NAME,\n",
    "    pad_token_id=tokenizer.eos_token_id  # ensure model knows about padding\n",
    ")\n",
    "\n",
    "# Move model to available device\n",
    "device = torch.device('cuda' if torch.cuda.is_available() else 'cpu')\n",
    "model = model.to(device)\n",
    "\n",
    "# Resize token embeddings to account for new special tokens\n",
    "model.resize_token_embeddings(len(tokenizer))"
   ]
  },
  {
   "cell_type": "code",
   "execution_count": null,
   "id": "8af60b75",
   "metadata": {},
   "outputs": [
    {
     "name": "stderr",
     "output_type": "stream",
     "text": [
      "/Users/igorjakus/projects/fastapi-codegen-finetune/venv/lib/python3.12/site-packages/transformers/training_args.py:1611: FutureWarning: `evaluation_strategy` is deprecated and will be removed in version 4.46 of 🤗 Transformers. Use `eval_strategy` instead\n",
      "  warnings.warn(\n"
     ]
    }
   ],
   "source": [
    "# Training arguments optimized for Google Colab\n",
    "training_args = TrainingArguments(\n",
    "    output_dir=str(MODEL_PATH / 'checkpoints'),\n",
    "    evaluation_strategy='steps',\n",
    "    eval_steps=100,\n",
    "    save_steps=200,\n",
    "    learning_rate=5e-5,\n",
    "    num_train_epochs=3,\n",
    "    weight_decay=0.01,\n",
    "    per_device_train_batch_size=2,\n",
    "    per_device_eval_batch_size=2,\n",
    "    gradient_accumulation_steps=8,\n",
    "    fp16=True,\n",
    "    save_total_limit=2,\n",
    "    load_best_model_at_end=True,\n",
    "    metric_for_best_model='eval_loss',\n",
    ")"
   ]
  },
  {
   "cell_type": "code",
   "execution_count": null,
   "id": "487f9332",
   "metadata": {},
   "outputs": [
    {
     "data": {
      "text/html": [
       "\n",
       "    <div>\n",
       "      \n",
       "      <progress value='2' max='294' style='width:300px; height:20px; vertical-align: middle;'></progress>\n",
       "      [  2/294 : < :, Epoch 0.01/3]\n",
       "    </div>\n",
       "    <table border=\"1\" class=\"dataframe\">\n",
       "  <thead>\n",
       " <tr style=\"text-align: left;\">\n",
       "      <th>Step</th>\n",
       "      <th>Training Loss</th>\n",
       "      <th>Validation Loss</th>\n",
       "    </tr>\n",
       "  </thead>\n",
       "  <tbody>\n",
       "  </tbody>\n",
       "</table><p>"
      ],
      "text/plain": [
       "<IPython.core.display.HTML object>"
      ]
     },
     "metadata": {},
     "output_type": "display_data"
    }
   ],
   "source": [
    "# Initialize trainer with default implementation\n",
    "trainer = Trainer(\n",
    "    model=model,\n",
    "    args=training_args,\n",
    "    train_dataset=train_dataset,\n",
    "    eval_dataset=dev_dataset,\n",
    "    data_collator=default_data_collator,\n",
    ")\n",
    "\n",
    "# Start training\n",
    "print('Starting training...')\n",
    "trainer.train()\n",
    "\n",
    "print('\\nTraining completed!')"
   ]
  },
  {
   "cell_type": "code",
   "execution_count": null,
   "id": "ff90b3f6",
   "metadata": {},
   "outputs": [],
   "source": [
    "# Evaluate on test set\n",
    "test_results = trainer.evaluate(test_dataset)\n",
    "print('Test results:', test_results)"
   ]
  },
  {
   "cell_type": "code",
   "execution_count": null,
   "id": "4e5a305b",
   "metadata": {},
   "outputs": [],
   "source": [
    "# Save final model\n",
    "trainer.save_model(str(MODEL_PATH / 'final'))\n",
    "print('Saved final model')"
   ]
  }
 ],
 "metadata": {
  "kernelspec": {
   "display_name": "venv",
   "language": "python",
   "name": "python3"
  },
  "language_info": {
   "codemirror_mode": {
    "name": "ipython",
    "version": 3
   },
   "file_extension": ".py",
   "mimetype": "text/x-python",
   "name": "python",
   "nbconvert_exporter": "python",
   "pygments_lexer": "ipython3",
   "version": "3.12.4"
  }
 },
 "nbformat": 4,
 "nbformat_minor": 5
}
