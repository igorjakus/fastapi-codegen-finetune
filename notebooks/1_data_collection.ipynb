{
 "cells": [
  {
   "cell_type": "markdown",
   "id": "305f1c26",
   "metadata": {},
   "source": [
    "# Training Data Collection\n",
    "\n",
    "This notebook collects training data for code line prediction by:\n",
    "1. Downloading FastAPI example code files\n",
    "2. Extracting code contexts (15 lines before, 10 lines after) for each line\n",
    "3. Preparing the dataset for fine-tuning"
   ]
  },
  {
   "cell_type": "code",
   "execution_count": 37,
   "id": "7d3cd191",
   "metadata": {},
   "outputs": [],
   "source": [
    "import requests\n",
    "from bs4 import BeautifulSoup\n",
    "from pathlib import Path\n",
    "import ast\n",
    "from typing import List, Dict, Tuple\n",
    "import pandas as pd\n",
    "import random"
   ]
  },
  {
   "cell_type": "code",
   "execution_count": null,
   "id": "240cd87d",
   "metadata": {},
   "outputs": [],
   "source": [
    "# FastAPI documentation URLs with example code\n",
    "# TODO: add more later\n",
    "FASTAPI_DOCS = [\n",
    "    'https://fastapi.tiangolo.com/tutorial/first-steps/',\n",
    "    'https://fastapi.tiangolo.com/tutorial/path-params/',\n",
    "    'https://fastapi.tiangolo.com/tutorial/query-params/',\n",
    "    'https://fastapi.tiangolo.com/tutorial/body/',\n",
    "    'https://fastapi.tiangolo.com/tutorial/response-model/',\n",
    "    'https://fastapi.tiangolo.com/tutorial/path-params-numeric-validations/',\n",
    "    'https://fastapi.tiangolo.com/tutorial/body-multiple-params/',\n",
    "    'https://fastapi.tiangolo.com/tutorial/body-fields/',\n",
    "    'https://fastapi.tiangolo.com/tutorial/dependencies/'\n",
    "]"
   ]
  },
  {
   "cell_type": "code",
   "execution_count": null,
   "id": "8aef8099",
   "metadata": {},
   "outputs": [],
   "source": [
    "def extract_python_code(url: str) -> List[str]:\n",
    "    \"\"\"Extract Python code blocks from FastAPI documentation page\"\"\"\n",
    "    response = requests.get(url)\n",
    "    soup = BeautifulSoup(response.text, 'html.parser')\n",
    "    \n",
    "    # Find all code blocks\n",
    "    code_blocks = soup.find_all('div', class_='highlight')\n",
    "    \n",
    "    # Extract code from each block\n",
    "    code_samples = []\n",
    "    for block in code_blocks:\n",
    "        code = block.get_text()\n",
    "        code = code.strip()\n",
    "        \n",
    "        if code and ('fastapi' in code.lower() or '@app' in code):\n",
    "            code_samples.append(code)\n",
    "    \n",
    "    return code_samples"
   ]
  },
  {
   "cell_type": "code",
   "execution_count": null,
   "id": "a366b2ad",
   "metadata": {},
   "outputs": [],
   "source": [
    "def is_valid_python_line(line: str) -> bool:\n",
    "    \"\"\"Check if a line is a valid Python code (and not empty/comment)\"\"\"\n",
    "    line = line.strip()\n",
    "\n",
    "    # Ignore empty lines and comments\n",
    "    if not line or line.startswith('#'):\n",
    "        return False\n",
    "\n",
    "    try:\n",
    "        ast.parse(line)\n",
    "        return True\n",
    "    except SyntaxError:\n",
    "        # Some lines might be valid but incomplete (e.g. function definitions)\n",
    "        # we lose some precision here, but gain recall :)\n",
    "        return len(line) > 5 and not line.startswith((' ', '\\t', '\"\"\"', '\\n'))\n",
    "    except Exception:\n",
    "        return False"
   ]
  },
  {
   "cell_type": "code",
   "execution_count": 30,
   "id": "6600c810",
   "metadata": {},
   "outputs": [],
   "source": [
    "def extract_context(code: str, line_idx: int, before: int = 15, after: int = 10) -> Tuple[str, str, str]:\n",
    "    \"\"\"Extract context before and after a specific line\"\"\"\n",
    "    lines = code.split('\\n')\n",
    "    \n",
    "    # Get the target line\n",
    "    target_line = lines[line_idx].strip()\n",
    "    \n",
    "    # Get context before\n",
    "    start_idx = max(0, line_idx - before)\n",
    "    context_before = '\\n'.join(lines[start_idx:line_idx])\n",
    "    \n",
    "    # Get context after\n",
    "    end_idx = min(len(lines), line_idx + after + 1)\n",
    "    context_after = '\\n'.join(lines[line_idx + 1:end_idx])\n",
    "    \n",
    "    return context_before, target_line, context_after"
   ]
  },
  {
   "cell_type": "code",
   "execution_count": null,
   "id": "4fdaa181",
   "metadata": {},
   "outputs": [],
   "source": [
    "def process_code_sample(code: str) -> List[Dict[str, str]]:\n",
    "    \"\"\"Process a code sample to extract training examples\"\"\"\n",
    "    examples = []\n",
    "    lines = code.split('\\n')\n",
    "    \n",
    "    for i, line in enumerate(lines):\n",
    "        if is_valid_python_line(line):\n",
    "            context_before, target, context_after = extract_context(code, i)\n",
    "            if context_before or context_after:  # Skip if no context\n",
    "                # not fastest way to do this, but we don't care about performance here\n",
    "                examples.append({\n",
    "                    'context_before': context_before,\n",
    "                    'target_line': target,\n",
    "                    'context_after': context_after\n",
    "                })\n",
    "    \n",
    "    return examples"
   ]
  },
  {
   "cell_type": "code",
   "execution_count": 43,
   "id": "783a8d5e",
   "metadata": {},
   "outputs": [
    {
     "name": "stdout",
     "output_type": "stream",
     "text": [
      "Processing https://fastapi.tiangolo.com/tutorial/first-steps/\n",
      "Processing https://fastapi.tiangolo.com/tutorial/path-params/\n",
      "Processing https://fastapi.tiangolo.com/tutorial/path-params/\n",
      "Processing https://fastapi.tiangolo.com/tutorial/query-params/\n",
      "Processing https://fastapi.tiangolo.com/tutorial/query-params/\n",
      "Processing https://fastapi.tiangolo.com/tutorial/body/\n",
      "Processing https://fastapi.tiangolo.com/tutorial/body/\n",
      "Processing https://fastapi.tiangolo.com/tutorial/response-model/\n",
      "Processing https://fastapi.tiangolo.com/tutorial/response-model/\n",
      "Processing https://fastapi.tiangolo.com/tutorial/path-params-numeric-validations/\n",
      "Processing https://fastapi.tiangolo.com/tutorial/path-params-numeric-validations/\n",
      "Processing https://fastapi.tiangolo.com/tutorial/body-multiple-params/\n",
      "Processing https://fastapi.tiangolo.com/tutorial/body-multiple-params/\n",
      "Processing https://fastapi.tiangolo.com/tutorial/body-fields/\n",
      "Processing https://fastapi.tiangolo.com/tutorial/body-fields/\n",
      "Processing https://fastapi.tiangolo.com/tutorial/dependencies/\n",
      "Processing https://fastapi.tiangolo.com/tutorial/dependencies/\n",
      "Collected 1959 examples\n",
      "Collected 1959 examples\n"
     ]
    }
   ],
   "source": [
    "# Collect all examples\n",
    "all_examples = []\n",
    "\n",
    "for url in FASTAPI_DOCS:\n",
    "    print(f'Processing {url}')\n",
    "    code_samples = extract_python_code(url)\n",
    "    for code in code_samples:\n",
    "        examples = process_code_sample(code)\n",
    "        all_examples.extend(examples)\n",
    "\n",
    "print(f'Collected {len(all_examples)} examples')"
   ]
  },
  {
   "cell_type": "code",
   "execution_count": 33,
   "id": "c59855b5",
   "metadata": {},
   "outputs": [],
   "source": [
    "# Path for saving raw data\n",
    "RAW_DATA_PATH = Path('../data/raw')\n",
    "RAW_DATA_PATH.mkdir(exist_ok=True)"
   ]
  },
  {
   "cell_type": "code",
   "execution_count": 42,
   "id": "8fd6e2b6",
   "metadata": {},
   "outputs": [
    {
     "data": {
      "text/plain": [
       "1959"
      ]
     },
     "execution_count": 42,
     "metadata": {},
     "output_type": "execute_result"
    }
   ],
   "source": [
    "len(all_examples)  # something is working!"
   ]
  },
  {
   "cell_type": "code",
   "execution_count": 44,
   "id": "f44c62ad",
   "metadata": {},
   "outputs": [
    {
     "name": "stdout",
     "output_type": "stream",
     "text": [
      "Total examples collected: 1959\n",
      "\n",
      "Context stats (lines):\n",
      "Average lines before: 8.4\n",
      "Average lines after: 5.9\n"
     ]
    }
   ],
   "source": [
    "# Convert to DataFrame\n",
    "df = pd.DataFrame(all_examples)\n",
    "\n",
    "# Basic stats\n",
    "print(f'Total examples collected: {len(df)}')\n",
    "print('\\nContext stats (lines):')\n",
    "stats = df.agg({\n",
    "    'context_before': lambda x: x.str.count('\\n').mean(),\n",
    "    'context_after': lambda x: x.str.count('\\n').mean()\n",
    "}).round(1)\n",
    "print(f'Average lines before: {stats[\"context_before\"]}') \n",
    "print(f'Average lines after: {stats[\"context_after\"]}') "
   ]
  },
  {
   "cell_type": "code",
   "execution_count": 46,
   "id": "8a2c1bef",
   "metadata": {},
   "outputs": [
    {
     "name": "stdout",
     "output_type": "stream",
     "text": [
      "\n",
      "Saved 1959 examples to ../data/raw/fastapi_code_examples.json\n"
     ]
    }
   ],
   "source": [
    "# Save data\n",
    "output_file = RAW_DATA_PATH / 'fastapi_code_examples.json'\n",
    "df.to_json(output_file, orient='records', indent=2, force_ascii=False)\n",
    "print(f'\\nSaved {len(df)} examples to {output_file}')"
   ]
  },
  {
   "cell_type": "code",
   "execution_count": null,
   "id": "f9df88b6",
   "metadata": {},
   "outputs": [
    {
     "name": "stdout",
     "output_type": "stream",
     "text": [
      "\n",
      "==================== Example 1755 ====================\n",
      "\u001b[94mContext before:\u001b[0m\n",
      "from fastapi import Depends, FastAPI\n",
      "\n",
      "app = FastAPI()\n",
      "\n",
      "\n",
      "async def common_parameters(q: str | None = None, skip: int = 0, limit: int = 100):\n",
      "    return {\"q\": q, \"skip\": skip, \"limit\": limit}\n",
      "\n",
      "\n",
      "@app.get(\"/items/\")\n",
      "async def read_items(commons: Annotated[dict, Depends(common_parameters)]):\n",
      "    return commons\n",
      "\n",
      "\n",
      "@app.get(\"/users/\")\n",
      "\n",
      "\u001b[92mTarget line:\u001b[0m\n",
      "async def read_users(commons: Annotated[dict, Depends(common_parameters)]):\n",
      "\n",
      "\u001b[94mContext after:\u001b[0m\n",
      "    return commons\n",
      "======================================================\n"
     ]
    }
   ],
   "source": [
    "# Interactive example viewer\n",
    "def display_example(example: dict, index: int = None):\n",
    "    \"\"\"Display a single example in a readable format\"\"\"\n",
    "    header = f\"Example {index}\" if index is not None else \"Example\"\n",
    "    print(f\"\\n{'='*20} {header} {'='*20}\")\n",
    "    print(\"\\033[94mContext before:\\033[0m\")\n",
    "    print(example['context_before'])\n",
    "    print(\"\\n\\033[92mTarget line:\\033[0m\")\n",
    "    print(example['target_line'])\n",
    "    print(\"\\n\\033[94mContext after:\\033[0m\")\n",
    "    print(example['context_after'])\n",
    "    print('=' * (42 + len(header)))\n",
    "\n",
    "idx = random.randint(0, len(df) - 1)\n",
    "display_example(df.iloc[idx], idx)"
   ]
  },
  {
   "cell_type": "code",
   "execution_count": null,
   "id": "7c1a79e4",
   "metadata": {},
   "outputs": [],
   "source": []
  }
 ],
 "metadata": {
  "kernelspec": {
   "display_name": "venv",
   "language": "python",
   "name": "python3"
  },
  "language_info": {
   "codemirror_mode": {
    "name": "ipython",
    "version": 3
   },
   "file_extension": ".py",
   "mimetype": "text/x-python",
   "name": "python",
   "nbconvert_exporter": "python",
   "pygments_lexer": "ipython3",
   "version": "3.12.4"
  }
 },
 "nbformat": 4,
 "nbformat_minor": 5
}
